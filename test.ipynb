{
 "cells": [
  {
   "cell_type": "code",
   "execution_count": 1,
   "metadata": {},
   "outputs": [
    {
     "name": "stderr",
     "output_type": "stream",
     "text": [
      "/var/folders/46/tcczvndd7xj_pqs5r176bl600000gn/T/ipykernel_4609/1591302161.py:1: DeprecationWarning: `import pandas_profiling` is going to be deprecated by April 1st. Please use `import ydata_profiling` instead.\n",
      "  import pandas_profiling\n"
     ]
    }
   ],
   "source": [
    "import pandas_profiling"
   ]
  },
  {
   "cell_type": "code",
   "execution_count": 2,
   "metadata": {},
   "outputs": [
    {
     "data": {
      "text/plain": [
       "'v4.6.2'"
      ]
     },
     "execution_count": 2,
     "metadata": {},
     "output_type": "execute_result"
    }
   ],
   "source": [
    "pandas_profiling.__version__"
   ]
  },
  {
   "cell_type": "code",
   "execution_count": 3,
   "metadata": {},
   "outputs": [
    {
     "name": "stdout",
     "output_type": "stream",
     "text": [
      "python: can't open file '/Users/saiakhil/Documents/Personal_Projects_Git_Sync/AutoMLWebapp/_V': [Errno 2] No such file or directory\n"
     ]
    }
   ],
   "source": [
    "! python _V"
   ]
  },
  {
   "cell_type": "code",
   "execution_count": 4,
   "metadata": {},
   "outputs": [
    {
     "data": {
      "text/plain": [
       "'1.7.3'"
      ]
     },
     "execution_count": 4,
     "metadata": {},
     "output_type": "execute_result"
    }
   ],
   "source": [
    "import xgboost\n",
    "xgboost.__version__"
   ]
  },
  {
   "cell_type": "code",
   "execution_count": 5,
   "metadata": {},
   "outputs": [
    {
     "name": "stdout",
     "output_type": "stream",
     "text": [
      "# packages in environment at /Users/saiakhil/anaconda3/envs/mlauto:\n",
      "#\n",
      "# Name                    Version                   Build  Channel\n",
      "_py-xgboost-mutex         2.0                       cpu_0  \n",
      "altair                    5.1.2                    pypi_0    pypi\n",
      "annotated-types           0.6.0                    pypi_0    pypi\n",
      "ansi2html                 1.8.0                    pypi_0    pypi\n",
      "appnope                   0.1.2           py311hca03da5_1001  \n",
      "asttokens                 2.0.5              pyhd3eb1b0_0  \n",
      "attrs                     23.1.0                   pypi_0    pypi\n",
      "backcall                  0.2.0              pyhd3eb1b0_0  \n",
      "blas                      1.0                    openblas  \n",
      "blinker                   1.7.0                    pypi_0    pypi\n",
      "bzip2                     1.0.8                h620ffc9_4  \n",
      "ca-certificates           2023.08.22           hca03da5_0  \n",
      "cachetools                5.3.2                    pypi_0    pypi\n",
      "category-encoders         2.6.3                    pypi_0    pypi\n",
      "certifi                   2023.11.17      py311hca03da5_0  \n",
      "charset-normalizer        3.3.2                    pypi_0    pypi\n",
      "click                     8.1.7                    pypi_0    pypi\n",
      "cloudpickle               3.0.0                    pypi_0    pypi\n",
      "comm                      0.2.0                    pypi_0    pypi\n",
      "contourpy                 1.2.0                    pypi_0    pypi\n",
      "cycler                    0.12.1                   pypi_0    pypi\n",
      "cython                    3.0.5                    pypi_0    pypi\n",
      "dacite                    1.8.1                    pypi_0    pypi\n",
      "dash                      2.14.1                   pypi_0    pypi\n",
      "dash-core-components      2.0.0                    pypi_0    pypi\n",
      "dash-html-components      2.0.0                    pypi_0    pypi\n",
      "dash-table                5.0.0                    pypi_0    pypi\n",
      "debugpy                   1.6.7           py311h313beb8_0  \n",
      "decorator                 5.1.1              pyhd3eb1b0_0  \n",
      "deprecated                1.2.14                   pypi_0    pypi\n",
      "deprecation               2.1.0                    pypi_0    pypi\n",
      "exceptiongroup            1.2.0              pyhd8ed1ab_0    conda-forge\n",
      "executing                 0.8.3              pyhd3eb1b0_0  \n",
      "fastjsonschema            2.19.0                   pypi_0    pypi\n",
      "flask                     3.0.0                    pypi_0    pypi\n",
      "fonttools                 4.45.1                   pypi_0    pypi\n",
      "gitdb                     4.0.11                   pypi_0    pypi\n",
      "gitpython                 3.1.40                   pypi_0    pypi\n",
      "htmlmin                   0.1.12                   pypi_0    pypi\n",
      "idna                      3.5                      pypi_0    pypi\n",
      "imagehash                 4.3.1                    pypi_0    pypi\n",
      "imbalanced-learn          0.11.0                   pypi_0    pypi\n",
      "importlib-metadata        6.8.0              pyha770c72_0    conda-forge\n",
      "importlib_metadata        6.8.0                hd8ed1ab_0    conda-forge\n",
      "ipykernel                 6.26.0             pyh3cd1d5f_0    conda-forge\n",
      "ipython                   8.15.0          py311hca03da5_0  \n",
      "ipywidgets                8.1.1                    pypi_0    pypi\n",
      "itsdangerous              2.1.2                    pypi_0    pypi\n",
      "jedi                      0.18.1          py311hca03da5_1  \n",
      "jinja2                    3.1.2                    pypi_0    pypi\n",
      "joblib                    1.3.2                    pypi_0    pypi\n",
      "jsonschema                4.20.0                   pypi_0    pypi\n",
      "jsonschema-specifications 2023.11.1                pypi_0    pypi\n",
      "jupyter_client            8.6.0           py311hca03da5_0  \n",
      "jupyter_core              5.5.0           py311hca03da5_0  \n",
      "jupyterlab-widgets        3.0.9                    pypi_0    pypi\n",
      "kaleido                   0.2.1                    pypi_0    pypi\n",
      "kiwisolver                1.4.5                    pypi_0    pypi\n",
      "libcxx                    14.0.6               h848a8c0_0  \n",
      "libffi                    3.4.4                hca03da5_0  \n",
      "libgfortran               5.0.0           11_3_0_hca03da5_28  \n",
      "libgfortran5              11.3.0              h009349e_28  \n",
      "libopenblas               0.3.21               h269037a_0  \n",
      "libsodium                 1.0.18               h1a28f6b_0  \n",
      "libxgboost                1.7.3                h313beb8_0  \n",
      "lightgbm                  4.1.0                    pypi_0    pypi\n",
      "llvm-openmp               14.0.6               hc6e5704_0  \n",
      "llvmlite                  0.41.1                   pypi_0    pypi\n",
      "markdown-it-py            3.0.0                    pypi_0    pypi\n",
      "markupsafe                2.1.3                    pypi_0    pypi\n",
      "matplotlib                3.6.0                    pypi_0    pypi\n",
      "matplotlib-inline         0.1.6           py311hca03da5_0  \n",
      "mdurl                     0.1.2                    pypi_0    pypi\n",
      "missingno                 0.5.2                    pypi_0    pypi\n",
      "multimethod               1.10                     pypi_0    pypi\n",
      "nbformat                  5.9.2                    pypi_0    pypi\n",
      "ncurses                   6.4                  h313beb8_0  \n",
      "nest-asyncio              1.5.6           py311hca03da5_0  \n",
      "networkx                  3.2.1                    pypi_0    pypi\n",
      "numba                     0.58.1                   pypi_0    pypi\n",
      "numpy                     1.25.2                   pypi_0    pypi\n",
      "numpy-base                1.26.0          py311hfbfe69c_0  \n",
      "openssl                   3.0.12               h1a28f6b_0  \n",
      "orjson                    3.9.10                   pypi_0    pypi\n",
      "packaging                 23.1            py311hca03da5_0  \n",
      "pandas                    1.5.3                    pypi_0    pypi\n",
      "pandas-profiling          3.2.0                    pypi_0    pypi\n",
      "parso                     0.8.3              pyhd3eb1b0_0  \n",
      "patsy                     0.5.3                    pypi_0    pypi\n",
      "pexpect                   4.8.0              pyhd3eb1b0_3  \n",
      "phik                      0.12.3                   pypi_0    pypi\n",
      "pickleshare               0.7.5           pyhd3eb1b0_1003  \n",
      "pillow                    10.1.0                   pypi_0    pypi\n",
      "pip                       23.3.1          py311hca03da5_0  \n",
      "platformdirs              3.10.0          py311hca03da5_0  \n",
      "plotly                    5.18.0                   pypi_0    pypi\n",
      "plotly-resampler          0.9.1                    pypi_0    pypi\n",
      "pmdarima                  2.0.4                    pypi_0    pypi\n",
      "prompt-toolkit            3.0.36          py311hca03da5_0  \n",
      "prompt_toolkit            3.0.41               hd8ed1ab_0    conda-forge\n",
      "protobuf                  4.25.1                   pypi_0    pypi\n",
      "psutil                    5.9.6                    pypi_0    pypi\n",
      "ptyprocess                0.7.0              pyhd3eb1b0_2  \n",
      "pure_eval                 0.2.2              pyhd3eb1b0_0  \n",
      "py-xgboost                1.7.3           py311hca03da5_0  \n",
      "pyarrow                   14.0.1                   pypi_0    pypi\n",
      "pycaret                   3.2.0                    pypi_0    pypi\n",
      "pydantic                  2.5.2                    pypi_0    pypi\n",
      "pydantic-core             2.14.5                   pypi_0    pypi\n",
      "pydeck                    0.8.1b0                  pypi_0    pypi\n",
      "pygments                  2.15.1          py311hca03da5_1  \n",
      "pyod                      1.1.2                    pypi_0    pypi\n",
      "pyparsing                 3.1.1                    pypi_0    pypi\n",
      "python                    3.11.5               hb885b13_0  \n",
      "python-dateutil           2.8.2              pyhd3eb1b0_0  \n",
      "pytz                      2023.3.post1             pypi_0    pypi\n",
      "pywavelets                1.5.0                    pypi_0    pypi\n",
      "pyyaml                    6.0.1                    pypi_0    pypi\n",
      "pyzmq                     25.1.0          py311h313beb8_0  \n",
      "readline                  8.2                  h1a28f6b_0  \n",
      "referencing               0.31.0                   pypi_0    pypi\n",
      "requests                  2.31.0                   pypi_0    pypi\n",
      "retrying                  1.3.4                    pypi_0    pypi\n",
      "rich                      13.7.0                   pypi_0    pypi\n",
      "rpds-py                   0.13.1                   pypi_0    pypi\n",
      "schemdraw                 0.15                     pypi_0    pypi\n",
      "scikit-base               0.5.2                    pypi_0    pypi\n",
      "scikit-learn              1.2.2           py311h313beb8_1  \n",
      "scikit-plot               0.3.7                    pypi_0    pypi\n",
      "scipy                     1.10.1                   pypi_0    pypi\n",
      "seaborn                   0.12.2                   pypi_0    pypi\n",
      "setuptools                68.0.0          py311hca03da5_0  \n",
      "six                       1.16.0             pyhd3eb1b0_1  \n",
      "sktime                    0.21.1                   pypi_0    pypi\n",
      "smmap                     5.0.1                    pypi_0    pypi\n",
      "sqlite                    3.41.2               h80987f9_0  \n",
      "stack-data                0.6.3                    pypi_0    pypi\n",
      "stack_data                0.2.0              pyhd3eb1b0_0  \n",
      "statsmodels               0.14.0                   pypi_0    pypi\n",
      "streamlit                 1.28.2                   pypi_0    pypi\n",
      "streamlit-pandas-profiling 0.1.3                    pypi_0    pypi\n",
      "tangled-up-in-unicode     0.2.0                    pypi_0    pypi\n",
      "tbats                     1.1.3                    pypi_0    pypi\n",
      "tenacity                  8.2.3                    pypi_0    pypi\n",
      "threadpoolctl             3.2.0                    pypi_0    pypi\n",
      "tk                        8.6.12               hb8d0fd4_0  \n",
      "toml                      0.10.2                   pypi_0    pypi\n",
      "toolz                     0.12.0                   pypi_0    pypi\n",
      "tornado                   6.3.3           py311h80987f9_0  \n",
      "tqdm                      4.66.1                   pypi_0    pypi\n",
      "trace-updater             0.0.9.1                  pypi_0    pypi\n",
      "traitlets                 5.7.1           py311hca03da5_0  \n",
      "tsdownsample              0.1.2                    pypi_0    pypi\n",
      "typeguard                 4.1.5                    pypi_0    pypi\n",
      "typing_extensions         4.8.0              pyha770c72_0    conda-forge\n",
      "tzdata                    2023.3                   pypi_0    pypi\n",
      "tzlocal                   5.2                      pypi_0    pypi\n",
      "urllib3                   2.1.0                    pypi_0    pypi\n",
      "validators                0.22.0                   pypi_0    pypi\n",
      "visions                   0.7.4                    pypi_0    pypi\n",
      "wcwidth                   0.2.5              pyhd3eb1b0_0  \n",
      "werkzeug                  3.0.1                    pypi_0    pypi\n",
      "wheel                     0.41.2          py311hca03da5_0  \n",
      "widgetsnbextension        4.0.9                    pypi_0    pypi\n",
      "wordcloud                 1.9.2                    pypi_0    pypi\n",
      "wrapt                     1.16.0                   pypi_0    pypi\n",
      "wurlitzer                 3.0.3                    pypi_0    pypi\n",
      "xgboost                   2.0.2                    pypi_0    pypi\n",
      "xxhash                    3.4.1                    pypi_0    pypi\n",
      "xz                        5.4.2                h80987f9_0  \n",
      "ydata-profiling           4.6.2                    pypi_0    pypi\n",
      "yellowbrick               1.5                      pypi_0    pypi\n",
      "zeromq                    4.3.4                hc377ac9_0  \n",
      "zipp                      3.17.0             pyhd8ed1ab_0    conda-forge\n",
      "zlib                      1.2.13               h5a0b063_0  \n"
     ]
    }
   ],
   "source": [
    "! conda list"
   ]
  },
  {
   "cell_type": "code",
   "execution_count": null,
   "metadata": {},
   "outputs": [],
   "source": []
  }
 ],
 "metadata": {
  "kernelspec": {
   "display_name": "mlauto",
   "language": "python",
   "name": "python3"
  },
  "language_info": {
   "codemirror_mode": {
    "name": "ipython",
    "version": 3
   },
   "file_extension": ".py",
   "mimetype": "text/x-python",
   "name": "python",
   "nbconvert_exporter": "python",
   "pygments_lexer": "ipython3",
   "version": "3.11.5"
  }
 },
 "nbformat": 4,
 "nbformat_minor": 2
}
